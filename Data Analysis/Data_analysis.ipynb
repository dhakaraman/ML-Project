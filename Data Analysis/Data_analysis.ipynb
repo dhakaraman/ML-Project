{
  "nbformat": 4,
  "nbformat_minor": 0,
  "metadata": {
    "colab": {
      "name": "Data_analysis.ipynb",
      "provenance": [],
      "mount_file_id": "1Ow3NVbWWWSB5SZc9kt2M_ck3J_m0l91F",
      "authorship_tag": "ABX9TyOWpqbU19SiI6hFxRM4rwOy",
      "include_colab_link": true
    },
    "kernelspec": {
      "name": "python3",
      "display_name": "Python 3"
    },
    "language_info": {
      "name": "python"
    }
  },
  "cells": [
    {
      "cell_type": "markdown",
      "metadata": {
        "id": "view-in-github",
        "colab_type": "text"
      },
      "source": [
        "<a href=\"https://colab.research.google.com/github/dhakaraman/ML-Project/blob/main/Data%20Analysis/Data_analysis.ipynb\" target=\"_parent\"><img src=\"https://colab.research.google.com/assets/colab-badge.svg\" alt=\"Open In Colab\"/></a>"
      ]
    },
    {
      "cell_type": "code",
      "metadata": {
        "id": "zkRGCkEZ-jLm"
      },
      "source": [
        "import numpy as np\n",
        "import pandas as pd\n",
        "import matplotlib as plt"
      ],
      "execution_count": null,
      "outputs": []
    },
    {
      "cell_type": "code",
      "metadata": {
        "id": "Ce8Iz2ElVmfE"
      },
      "source": [
        "source = \"/content/drive/MyDrive/Colab Notebooks/data/TSLA.csv\""
      ],
      "execution_count": null,
      "outputs": []
    },
    {
      "cell_type": "code",
      "metadata": {
        "colab": {
          "base_uri": "https://localhost:8080/"
        },
        "id": "TO-CNwVrWCV6",
        "outputId": "5a0380a2-a191-4d23-91f4-83a9d256d406"
      },
      "source": [
        "df = pd.read_csv(source, sep = \",\", index_col=False)\n",
        "print(df)"
      ],
      "execution_count": null,
      "outputs": [
        {
          "output_type": "stream",
          "name": "stdout",
          "text": [
            "            Date        Open        High  ...       Close   Adj Close    Volume\n",
            "0     2016-09-27   41.930000   41.995998  ...   41.161999   41.161999  16866000\n",
            "1     2016-09-28   41.501999   41.650002  ...   41.254002   41.254002  10442000\n",
            "2     2016-09-29   41.119999   41.466000  ...   40.139999   40.139999  13635000\n",
            "3     2016-09-30   40.442001   40.995998  ...   40.806000   40.806000  12931500\n",
            "4     2016-10-03   42.459999   43.133999  ...   42.740002   42.740002  29999500\n",
            "...          ...         ...         ...  ...         ...         ...       ...\n",
            "1253  2021-09-20  734.559998  742.000000  ...  730.169983  730.169983  24757700\n",
            "1254  2021-09-21  734.789978  744.739990  ...  739.380005  739.380005  16330700\n",
            "1255  2021-09-22  743.530029  753.669983  ...  751.940002  751.940002  15126300\n",
            "1256  2021-09-23  755.000000  758.200012  ...  753.640015  753.640015  11947500\n",
            "1257  2021-09-24  745.890015  774.799988  ...  774.390015  774.390015  21336900\n",
            "\n",
            "[1258 rows x 7 columns]\n"
          ]
        }
      ]
    },
    {
      "cell_type": "markdown",
      "metadata": {
        "id": "zXkZUEMUZkXf"
      },
      "source": [
        "# New section"
      ]
    },
    {
      "cell_type": "code",
      "metadata": {
        "colab": {
          "base_uri": "https://localhost:8080/",
          "height": 296
        },
        "id": "bDHU035hYTqU",
        "outputId": "df098706-959d-4bef-b752-9e645cc87afc"
      },
      "source": [
        "df.plot(x='Date', y='High')"
      ],
      "execution_count": null,
      "outputs": [
        {
          "output_type": "execute_result",
          "data": {
            "text/plain": [
              "<matplotlib.axes._subplots.AxesSubplot at 0x7fad7508dd90>"
            ]
          },
          "metadata": {},
          "execution_count": 24
        },
        {
          "output_type": "display_data",
          "data": {
            "image/png": "[encoded data removed]",
            "text/plain": [
              "<Figure size 432x288 with 1 Axes>"
            ]
          },
          "metadata": {
            "needs_background": "light"
          }
        }
      ]
    }
  ]
}